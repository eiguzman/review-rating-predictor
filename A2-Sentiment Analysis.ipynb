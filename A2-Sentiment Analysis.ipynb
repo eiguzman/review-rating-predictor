{
 "cells": [
  {
   "cell_type": "markdown",
   "id": "83939cf7-f9a2-487b-a7a5-42e474800b5c",
   "metadata": {},
   "source": [
    "# Sentiment Analysis of User-generated Reviews"
   ]
  },
  {
   "cell_type": "markdown",
   "id": "3142dcf8-aa43-4cf3-8b43-0a2dea65a48d",
   "metadata": {},
   "source": [
    "## Abstract\n",
    "\n"
   ]
  },
  {
   "cell_type": "markdown",
   "id": "2da67112-97f6-4472-94a9-aeece5742142",
   "metadata": {},
   "source": [
    "Recommender systems and regression models leverage sentiment analysis techniques to predict star ratings from 1 to 5 based on user-generated text reviews scraped from Google Maps. Businesses, governments agencies, and local attractions all seek to analyze how they are perceived by their users. Social norms have laid the foundation of star sentiment by rating businesses with five stars if their experiences were favorable, and low stars if complications arose. New users can then collect multiple reviews and generate their own opinions of a business without having experienced it themselves, while Businesses can maintain or correct their management by prioritizing what users like and mitigating practices that users dislike. Through the use of a bag-of-words approach, the system transforms the textual data into a structured format that captures the frequency and presence of keywords, enabling it to quantify the overall sentiment expressed in the reviews. To enhance the model's predictive capabilities, it integrates emoji recognition, acknowledging that emojis often convey nuanced emotions that can significantly influence a consumer's opinion. Ridge regression is employed as the underlying machine learning algorithm, providing a robust framework for handling multicollinearity among features while effectively minimizing overfitting. The combination of sentiment scores derived from text and the contextual weight of emojis allows the system to create a comprehensive feature set. By training on a diverse dataset of reviews with known ratings, the model learns to associate specific linguistic patterns and emotional cues with corresponding star ratings. This results in a highly accurate and interpretable prediction mechanism that can assist users in gauging product quality based on past experiences."
   ]
  },
  {
   "cell_type": "markdown",
   "id": "1186add5-af5d-4824-9271-490e9becdd5f",
   "metadata": {},
   "source": [
    "## Step 1: Identifying a Dataset"
   ]
  },
  {
   "cell_type": "markdown",
   "id": "c1c0cea2-7903-4a65-a33a-5de7af1df1d1",
   "metadata": {},
   "source": [
    "The dataset that was chosen was <code>Google Local business reviews and metadata dataset</code>. Specifically, the <code>California 10-core dataset</code> was chosen for a multitude of reasons. First, this dataset boasts over 44 million reviews across the state, providing our model with significant data regardless of sample size. Second, California is a state the author is most comfortable working with, owing much of their ability to interpret results to their domain knowledge of the state, the businesses that operate within it, and the general social interactions of its populace. The third reason for picking this dataset is because California attracts many tourists, inside and outside the United States. Reviews from international individuals can significantly influence the variety of reviews given to a specialized business entity, such as a coastal seafood restaurant or a local amusement park. Reviews from remote states inhabited by a couple hundred thousand people might be more biased towards the local preferences, resulting in a greater error factor when implementing our model to other locations. This project will seek to process the review texts of Google reviews in California to determine any significant words, phrases, or symbols that are indicative of a user's decision for a certain star rating."
   ]
  },
  {
   "cell_type": "markdown",
   "id": "e6e288f9-e03c-4786-95bc-9e40affba61b",
   "metadata": {},
   "source": [
    "### Exploratory Data Analysis"
   ]
  },
  {
   "cell_type": "markdown",
   "id": "072f84c3-7b1f-4652-9cae-baec1d0e8817",
   "metadata": {},
   "source": [
    "The following packages will be used for initial Exploratory Data Analysis: <code>gzip</code> and <code>json</code>"
   ]
  },
  {
   "cell_type": "code",
   "execution_count": 1,
   "id": "9d595a32-5633-461d-bd10-3a486b087aaa",
   "metadata": {},
   "outputs": [],
   "source": [
    "import gzip\n",
    "import json"
   ]
  },
  {
   "cell_type": "markdown",
   "id": "50517eb7-3e99-485f-8096-5825ca557db6",
   "metadata": {},
   "source": [
    "The function <code>parse</code> will read the <code>.gz</code> files."
   ]
  },
  {
   "cell_type": "code",
   "execution_count": 2,
   "id": "e308d62d-01c2-4b49-9137-fe90896c066d",
   "metadata": {},
   "outputs": [],
   "source": [
    "def parse(path):\n",
    "    g = gzip.open(path, 'r')\n",
    "    for l in g:\n",
    "        yield json.loads(l)"
   ]
  },
  {
   "cell_type": "markdown",
   "id": "e75c0264-7fdf-47e5-9c65-75feb2044964",
   "metadata": {},
   "source": [
    "<code>review-California_10.json.gz</code> contains 44,476,890 reviews in <code>.json</code> format. The following code extracts the first review:"
   ]
  },
  {
   "cell_type": "code",
   "execution_count": 3,
   "id": "5876d06b-f6bb-4e44-a2e4-f18dd3501e93",
   "metadata": {},
   "outputs": [
    {
     "name": "stdout",
     "output_type": "stream",
     "text": [
      "{'user_id': '108991152262655788985', 'name': 'Song Ro', 'time': 1609909927056, 'rating': 5, 'text': 'Love there korean rice cake.', 'pics': None, 'resp': None, 'gmap_id': '0x80c2c778e3b73d33:0xbdc58662a4a97d49'}\n"
     ]
    }
   ],
   "source": [
    "reviews = parse('review-California_10.json.gz')\n",
    "for i in reviews:\n",
    "    print(i)\n",
    "    break"
   ]
  },
  {
   "cell_type": "markdown",
   "id": "65c87b26-3513-4057-be54-68310610e3bd",
   "metadata": {},
   "source": [
    "Each review contains 8 variables described below:\n",
    "\n",
    "1. <code>user_id</code>: This is a 21-digit string that identifies the user reviewing the Google location. This string is unique to an individual user. A user can write multiple reviews.\n",
    "2. <code>name</code>: The name of the user, written as a string.\n",
    "3. <code>time</code>: The Unix time of when the review was written, in integer format.\n",
    "4. <code>rating</code>: An integer rating denoting the number of stars a user gave to a location. Ratings range from 1 to 5 stars.\n",
    "5. <code>text</code>: An optional text string that a user can edit to describe their review. This variable will be the primary focus for our project.\n",
    "6. <code>pics</code>: An optional list of hyperlinks that redirect to an uploaded image of the location.\n",
    "7. <code>resp</code>: An optional text response by another user, usually the owner or moderator of the location.\n",
    "8. <code>gmap_id</code>: A string describing the ID of the location"
   ]
  },
  {
   "cell_type": "markdown",
   "id": "27a6860c-7d21-482a-8d5a-e0981a13def6",
   "metadata": {},
   "source": [
    "### Data Preprocessing"
   ]
  },
  {
   "cell_type": "markdown",
   "id": "a249457e-99dd-40f8-ad74-9f4b13b1f61c",
   "metadata": {},
   "source": [
    "Before we continue our EDA, the data must be processed and transformed into a manageable, readable level. At 44 million observations, working with the raw, original data will be too computationally heavy. Simply moving all rows into a list would take over an hour! Instead, by randomly sampling just 2.5% of the dataset, we can still work on a strong recommender that uses over 1 million observations. The following packages will be used for initial preprocessing: <code>gzip</code>, <code>json</code>, <code>string</code>, <code>random</code>, <code>emoji</code>, and <code>re</code>."
   ]
  },
  {
   "cell_type": "code",
   "execution_count": 4,
   "id": "6a7fbeae-2282-4964-8868-068887f9918b",
   "metadata": {},
   "outputs": [],
   "source": [
    "import string\n",
    "import random\n",
    "import emoji\n",
    "import re"
   ]
  },
  {
   "cell_type": "markdown",
   "id": "989eee29-0544-4ade-b644-a4c66fbe88fa",
   "metadata": {},
   "source": [
    "To start the preprocessing, a random number generator will generate a number between 1 and 40 between each parsed row. Roughly 2.5% of all rows will be appended to <code>allRatings</code> for use in a predictor model. Since we are working with a subset of the data, the resulting list only takes 3 minutes to generate."
   ]
  },
  {
   "cell_type": "code",
   "execution_count": 5,
   "id": "4574a73f-1f95-4eba-bf0f-b34558a00c8f",
   "metadata": {},
   "outputs": [],
   "source": [
    "allRatings = []\n",
    "testRatings = []\n",
    "for i in parse('review-California_10.json.gz'):\n",
    "    luck = random.randint(1,40)\n",
    "    if luck == 1:\n",
    "        allRatings.append(i)\n",
    "    if luck == 2:\n",
    "        testRatings.append(i)"
   ]
  },
  {
   "cell_type": "code",
   "execution_count": 6,
   "id": "94ea92b1-3c7c-43f4-93a5-e9982bb6daff",
   "metadata": {},
   "outputs": [
    {
     "data": {
      "text/plain": [
       "1111507"
      ]
     },
     "execution_count": 6,
     "metadata": {},
     "output_type": "execute_result"
    }
   ],
   "source": [
    "len(allRatings)"
   ]
  },
  {
   "cell_type": "markdown",
   "id": "d3860e0b-1a7a-431d-8607-77593e3cf16b",
   "metadata": {},
   "source": [
    "Below, two functions are created: one for adding spaces around demojized text, and another to replace newlines with spaces. Emojis are written in Unicode format but display as their emoji symbols when run. In order to properly work with emojis, we must <code>demojize</code> strings that contain emojis to convert them into written text format. For our analysis, emojis will be retained in any text string that contains them, as the usage of certain emojis is a simple yet effective variable to use for sentiment analysis.\n",
    "\n",
    "Additionally, we will create a string of punctuation symbols to filter out of our strings."
   ]
  },
  {
   "cell_type": "code",
   "execution_count": 7,
   "id": "7412c2c1-44d5-4574-ab13-aaf0c9e45724",
   "metadata": {},
   "outputs": [],
   "source": [
    "punct = string.punctuation\n",
    "punct = ''.join([punct] + ['\\u2019', '\\u201c', '\\u201d'])\n",
    "\n",
    "def add_spaces_after_emojis(text):\n",
    "    pattern = r'(:\\w+:)'\n",
    "    result = re.sub(pattern, r' \\1 ', text)\n",
    "    return result\n",
    "\n",
    "def add_spaces_after_newline(text):\n",
    "    pattern = r'(\\n)'\n",
    "    result = re.sub(pattern, r' ', text)\n",
    "    return result"
   ]
  },
  {
   "cell_type": "markdown",
   "id": "d2bd7382-5258-47ca-9cfb-1cb3fc53e4ba",
   "metadata": {},
   "source": [
    "While the ratings were added to the list without any resulting errors, attempting to write them into a <code>.csv</code> file will result in multiple <code>UnicodeEncodeError</code>. To mitigate this while reducing redundancy, four steps must be taken:\n",
    "\n",
    "1. Remove all original text that was translated by Google, and retain the translation. Some observations start with <code>{translated by google}</code> and are followed by <code>{original}</code>, containing the original, untranslated text review. Some text revies are written in Spanish, French, and Vietnamese, languages which contain many accented letters that may not write properly onto a csv. This can also cause issues when determining which words have greater impact on ratings, as some English words are mapped to words of other languages while being impacted by reviews that required no translation to English. As such, the importance of non-English words are heavily inflated in comparison to their English counterparts.\n",
    "2. Reduce text complexity by setting all letters to lowercase. This helps lower the amount of unique words our model has to iterate over, saving a large amount of computation time. The drawbacks are that words that are in full capitalization lose sentiment context. Sentences typed with Caps Lock On usually denote stronger positive or negative emotion, or are used to add emphasis to a word when the sentence is spoken.\n",
    "3. Remove all punctuation. This is a simple cleanup tool used to make sure that any word that is followed by punctuation is not counted as a unique word, and is properly grouped with the rest of the words. Without removing punctiation, our corpus would contain tens of thousands of single-use words with punctuation at the beginning or end of the string.\n",
    "4. Replacing newline characters with spaces. Although this does not improve computational efficiency or change total word counts, removing newlines neatens any printed or written code into a single line, improving readability.\n",
    "\n",
    "The following code loops through the <code>allRatings</code> list and modifies each text review."
   ]
  },
  {
   "cell_type": "code",
   "execution_count": 8,
   "id": "a3c1a041-26d8-4a8d-a345-30581539cf64",
   "metadata": {},
   "outputs": [],
   "source": [
    "for d in enumerate(allRatings):\n",
    "    if d[1]['text'] is None:\n",
    "        r = ''\n",
    "    else:\n",
    "        r = d[1]['text'].lower()\n",
    "        parts = r.split('{original}')\n",
    "        r = parts[0].strip()\n",
    "        parts = r.split('(original)')\n",
    "        r = parts[0].strip()\n",
    "        r = ''.join([c for c in r if c not in punct])\n",
    "        r = ' '.join(add_spaces_after_newline(r).split())\n",
    "    allRatings[d[0]]['text'] = r"
   ]
  },
  {
   "cell_type": "code",
   "execution_count": 9,
   "id": "889a61ea-8ee1-40d6-afe0-12ad09c38268",
   "metadata": {},
   "outputs": [],
   "source": [
    "for d in enumerate(testRatings):\n",
    "    if d[1]['text'] is None:\n",
    "        r = ''\n",
    "    else:\n",
    "        r = d[1]['text'].lower()\n",
    "        parts = r.split('{original}')\n",
    "        r = parts[0].strip()\n",
    "        parts = r.split('(original)')\n",
    "        r = parts[0].strip()\n",
    "        r = ''.join([c for c in r if c not in punct])\n",
    "        r = ' '.join(add_spaces_after_newline(r).split())\n",
    "    testRatings[d[0]]['text'] = r"
   ]
  },
  {
   "cell_type": "markdown",
   "id": "161d9375-df2c-4c29-99cf-78576d02cf3c",
   "metadata": {},
   "source": [
    "Emojis are an important tool to use when seeking to determine sentiment in a corpus. Social norms have evolved the emoji from a simple caricature to a new form of speech. Heart and party popper emojis can express positive emotions, while the puking and facepalming emoji evoke negative emotions. Although emojis are widely used in cellular devices, they are more difficult to use on desktop computers and laptops. As such, a very small percentage of reviews contain emojis. Removing emojis would hinder our performance in determining an accurate predictor as it would reduce accuracy in reviews containing emojis, as well as other text reviews that contain similar words.\n",
    "\n",
    "To properly convert emojis into text, we will use the <code>emoji.demojize</code> function. Certain unicode symbols will also be retained, such as stars and hearts, as they may also contain sentiment which can help us find a correlation between their use and the review score. All remaining unicode not filtered out will be ignored when writing our preprocessed data into a <code>.csv</code> file.\n",
    "\n",
    "The following code creates a new file called <code>review-California-subsamp.csv</code>. Our model will retain five variables:\n",
    "\n",
    "1. <code>user_id</code>: Unique identification of a user. <code>name</code> is not used because multiple people can have the same name; each user_id is unique to a person.\n",
    "2. <code>gmap_id</code>: Unique identification of a business/location. The first two variables can be used if we decide to fit a predictor model using Jaccard or Cosine Similarity.\n",
    "3. <code>time</code>: Unix time of writing the review. This variable can be used in sliding window regression.\n",
    "4. <code>text</code>: Written text description of the review. This variable can be used for our sentiment analysis models.\n",
    "5. <code>rating</code>: Rating from 1 to 5 stars. All models will attempt to predict a star rating."
   ]
  },
  {
   "cell_type": "code",
   "execution_count": 10,
   "id": "31d2451a-ddc2-4973-b240-0423f2eb66e3",
   "metadata": {},
   "outputs": [],
   "source": [
    "unis = {\"\\u2605\": \":u_black_star:\", \"\\u2606\": \":u_white_star:\", \"\\u2661\": \":u_white_heart:\", \"\\u2665\": \":u_black_heart:\"}\n",
    "\n",
    "predictions = open('review-California-subsamp.csv', 'w', encoding= 'utf-8')\n",
    "predictions.write('User_ID,Business_ID,Time,Text,Rating\\n')\n",
    "for i in allRatings:\n",
    "    u = i['user_id']\n",
    "    b = i['gmap_id']\n",
    "    tm = str(i['time'])\n",
    "    tx = i['text']\n",
    "    r = str(i['rating'])\n",
    "    for j in unis:\n",
    "        tx = tx.replace(j, unis[j])\n",
    "    if any(char in emoji.EMOJI_DATA for char in tx):\n",
    "        tx_demojize = emoji.demojize(tx)\n",
    "        res = add_spaces_after_emojis(tx_demojize).split()\n",
    "        tx = ' '.join(res)\n",
    "    results = f'{u},{b},{tm},\"{tx}\",{r}\\n'\n",
    "    predictions.write(results)\n",
    "            \n",
    "predictions.close()"
   ]
  },
  {
   "cell_type": "code",
   "execution_count": 11,
   "id": "8bcb8108-2092-47b2-bf8e-dd0a025aeb47",
   "metadata": {},
   "outputs": [],
   "source": [
    "predictions = open('review-California-test.csv', 'w', encoding= 'utf-8')\n",
    "predictions.write('User_ID,Business_ID,Time,Text,Rating\\n')\n",
    "for i in testRatings:\n",
    "    u = i['user_id']\n",
    "    b = i['gmap_id']\n",
    "    tm = str(i['time'])\n",
    "    tx = i['text']\n",
    "    r = str(i['rating'])\n",
    "    for j in unis:\n",
    "        tx = tx.replace(j, unis[j])\n",
    "    if any(char in emoji.EMOJI_DATA for char in tx):\n",
    "        tx_demojize = emoji.demojize(tx)\n",
    "        res = add_spaces_after_emojis(tx_demojize).split()\n",
    "        tx = ' '.join(res)\n",
    "    results = f'{u},{b},{tm},\"{tx}\",{r}\\n'\n",
    "    predictions.write(results)\n",
    "            \n",
    "predictions.close()"
   ]
  },
  {
   "cell_type": "markdown",
   "id": "ff5bdb14-3cc2-4bf1-b839-3020931b50fd",
   "metadata": {},
   "source": [
    "The resulting <code>.csv</code> file will now be used to create a DataFrame, where EDA and future predictor models can be built on."
   ]
  },
  {
   "cell_type": "code",
   "execution_count": 1,
   "id": "13fce3a8-a6fb-4cfc-b7cb-a18d73a1ba66",
   "metadata": {},
   "outputs": [],
   "source": [
    "import numpy as np\n",
    "import pandas as pd\n",
    "import seaborn as sns\n",
    "import string\n",
    "import nltk\n",
    "import ast\n",
    "import gensim\n",
    "from collections import defaultdict\n",
    "from nltk.stem.porter import *\n",
    "from nltk.corpus import stopwords\n",
    "from sklearn.feature_extraction.text import CountVectorizer\n",
    "from sklearn import linear_model\n",
    "from sklearn.metrics import accuracy_score"
   ]
  },
  {
   "cell_type": "code",
   "execution_count": 2,
   "id": "5f37e6af-5436-4233-999c-027994e5f786",
   "metadata": {},
   "outputs": [],
   "source": [
    "df = pd.read_csv('review-California-subsamp.csv', encoding= 'utf-8')"
   ]
  },
  {
   "cell_type": "code",
   "execution_count": 3,
   "id": "f0282899-edbb-4692-94e3-6a9028405340",
   "metadata": {},
   "outputs": [
    {
     "data": {
      "text/html": [
       "<div>\n",
       "<style scoped>\n",
       "    .dataframe tbody tr th:only-of-type {\n",
       "        vertical-align: middle;\n",
       "    }\n",
       "\n",
       "    .dataframe tbody tr th {\n",
       "        vertical-align: top;\n",
       "    }\n",
       "\n",
       "    .dataframe thead th {\n",
       "        text-align: right;\n",
       "    }\n",
       "</style>\n",
       "<table border=\"1\" class=\"dataframe\">\n",
       "  <thead>\n",
       "    <tr style=\"text-align: right;\">\n",
       "      <th></th>\n",
       "      <th>User_ID</th>\n",
       "      <th>Business_ID</th>\n",
       "      <th>Time</th>\n",
       "      <th>Text</th>\n",
       "      <th>Rating</th>\n",
       "    </tr>\n",
       "  </thead>\n",
       "  <tbody>\n",
       "    <tr>\n",
       "      <th>0</th>\n",
       "      <td>108991152262655788985</td>\n",
       "      <td>0x80c2c632f933b073:0xc31785961fe826a6</td>\n",
       "      <td>1611028298617</td>\n",
       "      <td>NaN</td>\n",
       "      <td>5</td>\n",
       "    </tr>\n",
       "    <tr>\n",
       "      <th>1</th>\n",
       "      <td>103517930104985091440</td>\n",
       "      <td>0x80dd2b4c8555edb7:0xfc33d65c4bdbef42</td>\n",
       "      <td>1630608645242</td>\n",
       "      <td>love this place fried garlic chicken was very ...</td>\n",
       "      <td>5</td>\n",
       "    </tr>\n",
       "    <tr>\n",
       "      <th>2</th>\n",
       "      <td>100407264374478907511</td>\n",
       "      <td>0x80960c29f2e3bf29:0x4b291f0d275a5699</td>\n",
       "      <td>1533687919241</td>\n",
       "      <td>they make the burden of getting and renting sk...</td>\n",
       "      <td>5</td>\n",
       "    </tr>\n",
       "    <tr>\n",
       "      <th>3</th>\n",
       "      <td>111076645230062291047</td>\n",
       "      <td>0x80960c29f2e3bf29:0x4b291f0d275a5699</td>\n",
       "      <td>1552427615274</td>\n",
       "      <td>good service affordable</td>\n",
       "      <td>5</td>\n",
       "    </tr>\n",
       "    <tr>\n",
       "      <th>4</th>\n",
       "      <td>102161898384387210074</td>\n",
       "      <td>0x809adfe022389d79:0x388b21219097be6c</td>\n",
       "      <td>1581408882457</td>\n",
       "      <td>i have had two really great massages at this p...</td>\n",
       "      <td>5</td>\n",
       "    </tr>\n",
       "  </tbody>\n",
       "</table>\n",
       "</div>"
      ],
      "text/plain": [
       "                 User_ID                            Business_ID  \\\n",
       "0  108991152262655788985  0x80c2c632f933b073:0xc31785961fe826a6   \n",
       "1  103517930104985091440  0x80dd2b4c8555edb7:0xfc33d65c4bdbef42   \n",
       "2  100407264374478907511  0x80960c29f2e3bf29:0x4b291f0d275a5699   \n",
       "3  111076645230062291047  0x80960c29f2e3bf29:0x4b291f0d275a5699   \n",
       "4  102161898384387210074  0x809adfe022389d79:0x388b21219097be6c   \n",
       "\n",
       "            Time                                               Text  Rating  \n",
       "0  1611028298617                                                NaN       5  \n",
       "1  1630608645242  love this place fried garlic chicken was very ...       5  \n",
       "2  1533687919241  they make the burden of getting and renting sk...       5  \n",
       "3  1552427615274                            good service affordable       5  \n",
       "4  1581408882457  i have had two really great massages at this p...       5  "
      ]
     },
     "execution_count": 3,
     "metadata": {},
     "output_type": "execute_result"
    }
   ],
   "source": [
    "df.head()"
   ]
  },
  {
   "cell_type": "markdown",
   "id": "33c63daa-a77c-4623-86e2-f26084628fbc",
   "metadata": {},
   "source": [
    "### EDA: Part 2"
   ]
  },
  {
   "cell_type": "markdown",
   "id": "c6c71b3b-86b9-4a91-95e4-c78eb6e3ced1",
   "metadata": {},
   "source": [
    "Now that a working DataFrame has been generated, it is time to continue our Exploratory Data Analysis."
   ]
  },
  {
   "cell_type": "code",
   "execution_count": 4,
   "id": "d4cd3c01-2c94-4c8c-ba61-bddd3d419498",
   "metadata": {},
   "outputs": [
    {
     "data": {
      "text/plain": [
       "(1111507, 5)"
      ]
     },
     "execution_count": 4,
     "metadata": {},
     "output_type": "execute_result"
    }
   ],
   "source": [
    "df.shape"
   ]
  },
  {
   "cell_type": "markdown",
   "id": "881bfcb3-42cb-4756-b9d8-3b16f7a5338a",
   "metadata": {},
   "source": [
    "Our dataframe contains over 1.1 million reviews, each observation containing 5 variables."
   ]
  },
  {
   "cell_type": "code",
   "execution_count": 5,
   "id": "d5f099a6-7a18-406b-abd9-a65d5b5e3f43",
   "metadata": {},
   "outputs": [
    {
     "name": "stdout",
     "output_type": "stream",
     "text": [
      "<class 'pandas.core.frame.DataFrame'>\n",
      "RangeIndex: 1111507 entries, 0 to 1111506\n",
      "Data columns (total 5 columns):\n",
      " #   Column       Non-Null Count    Dtype \n",
      "---  ------       --------------    ----- \n",
      " 0   User_ID      1111507 non-null  object\n",
      " 1   Business_ID  1111507 non-null  object\n",
      " 2   Time         1111507 non-null  int64 \n",
      " 3   Text         594190 non-null   object\n",
      " 4   Rating       1111507 non-null  int64 \n",
      "dtypes: int64(2), object(3)\n",
      "memory usage: 42.4+ MB\n"
     ]
    }
   ],
   "source": [
    "df.info()"
   ]
  },
  {
   "cell_type": "markdown",
   "id": "8e666b03-debb-4667-9713-e119f52c75c2",
   "metadata": {},
   "source": [
    "Three of our variables are categorical:\n",
    "1. <code>User_ID</code>: Numeric String\n",
    "2. <code>Business_ID</code>: String\n",
    "3. <code>Text</code>: String\n",
    "\n",
    "The remaining two variables are numerical:\n",
    "1. <code>Time</code>: Continuous integers\n",
    "2. <code>Rating</code>: Discrete integers"
   ]
  },
  {
   "cell_type": "markdown",
   "id": "a2924d14-fa86-46a3-8fdb-87ebe1fe9b27",
   "metadata": {},
   "source": [
    "What is the distribution of all ratings? The following code will plot a barplot containing all the ratings in our sample dataset"
   ]
  },
  {
   "cell_type": "code",
   "execution_count": 6,
   "id": "6fcfb60e-06de-4bdd-809a-aef382465df2",
   "metadata": {},
   "outputs": [
    {
     "data": {
      "text/html": [
       "<div>\n",
       "<style scoped>\n",
       "    .dataframe tbody tr th:only-of-type {\n",
       "        vertical-align: middle;\n",
       "    }\n",
       "\n",
       "    .dataframe tbody tr th {\n",
       "        vertical-align: top;\n",
       "    }\n",
       "\n",
       "    .dataframe thead th {\n",
       "        text-align: right;\n",
       "    }\n",
       "</style>\n",
       "<table border=\"1\" class=\"dataframe\">\n",
       "  <thead>\n",
       "    <tr style=\"text-align: right;\">\n",
       "      <th></th>\n",
       "      <th>Rating</th>\n",
       "      <th>count</th>\n",
       "      <th>props</th>\n",
       "    </tr>\n",
       "  </thead>\n",
       "  <tbody>\n",
       "    <tr>\n",
       "      <th>0</th>\n",
       "      <td>5</td>\n",
       "      <td>663288</td>\n",
       "      <td>0.60</td>\n",
       "    </tr>\n",
       "    <tr>\n",
       "      <th>1</th>\n",
       "      <td>4</td>\n",
       "      <td>255593</td>\n",
       "      <td>0.23</td>\n",
       "    </tr>\n",
       "    <tr>\n",
       "      <th>2</th>\n",
       "      <td>3</td>\n",
       "      <td>111074</td>\n",
       "      <td>0.10</td>\n",
       "    </tr>\n",
       "    <tr>\n",
       "      <th>3</th>\n",
       "      <td>1</td>\n",
       "      <td>46100</td>\n",
       "      <td>0.04</td>\n",
       "    </tr>\n",
       "    <tr>\n",
       "      <th>4</th>\n",
       "      <td>2</td>\n",
       "      <td>35452</td>\n",
       "      <td>0.03</td>\n",
       "    </tr>\n",
       "  </tbody>\n",
       "</table>\n",
       "</div>"
      ],
      "text/plain": [
       "   Rating   count  props\n",
       "0       5  663288   0.60\n",
       "1       4  255593   0.23\n",
       "2       3  111074   0.10\n",
       "3       1   46100   0.04\n",
       "4       2   35452   0.03"
      ]
     },
     "execution_count": 6,
     "metadata": {},
     "output_type": "execute_result"
    }
   ],
   "source": [
    "rating_counts = df[\"Rating\"].value_counts().reset_index()\n",
    "rating_counts['props'] = np.round((rating_counts['count'] / rating_counts['count'].sum()),2)\n",
    "rating_counts"
   ]
  },
  {
   "cell_type": "code",
   "execution_count": 7,
   "id": "ac8123df-8ab2-4eb2-a36f-9cc05c0baa6d",
   "metadata": {},
   "outputs": [
    {
     "data": {
      "image/png": "[encoded data removed]",
      "text/plain": [
       "<Figure size 640x480 with 1 Axes>"
      ]
     },
     "metadata": {},
     "output_type": "display_data"
    }
   ],
   "source": [
    "clrs = ['grey', 'grey', 'grey', 'grey', '#0044ff']\n",
    "plt = sns.barplot(data= rating_counts, \n",
    "                  x=\"Rating\", \n",
    "                  y= \"count\", \n",
    "                  hue=\"Rating\", \n",
    "                  palette = clrs, \n",
    "                  legend= False).set(title = \"Rating Counts, Full Data\")"
   ]
  },
  {
   "cell_type": "markdown",
   "id": "10c6f09b-f723-48d5-a897-3354adbff8cc",
   "metadata": {},
   "source": [
    "Based on the generated sample, roughly 60% of all user-generated reviews have 5-star ratings. This is indicative of a few deductions. First, many people tend to see businesses in a positive aspect, with over 83% of all reviews being 4 stars or greater. Second, many of the 5 star reviews may be ingenuine. This is because lower ratings tend to be fueled by a negative yet real experience, whereas sometimes businesses can incentivize users to give them 5-star ratings in exchange for a good or service. Some users are willing to give a business a 5 star review when their experience is neutral. This causes the 4-star reviews to fall into a middle ground of ambiguity. 4 star reviews are generally positive, with one minor inconvenience dropping them from 5 stars. Are these reviews to be seen as less valuable or less favorable than a neutral 5-star experience? This question is one of many reasons many businesses are moving away from star ratings, and instead are opting for binary reviews of \"likes\" and \"dislikes\"."
   ]
  },
  {
   "cell_type": "markdown",
   "id": "b4140a5d-3ae8-41f9-8f81-086646348dde",
   "metadata": {},
   "source": [
    "Many reviews will contain stopwords. As the word counts increase, these stopwords will be the most used words in our corpus, yet they offer very litle to no sentiment gains. As such, all stopwords will be removed. The set of stopwords will be downloaded from the <code>nltk</code> package"
   ]
  },
  {
   "cell_type": "code",
   "execution_count": 8,
   "id": "2c8a6f23-7a29-4b10-86b4-1729325d45f1",
   "metadata": {},
   "outputs": [
    {
     "name": "stderr",
     "output_type": "stream",
     "text": [
      "[nltk_data] Downloading package stopwords to\n",
      "[nltk_data]     C:\\Users\\edgar\\AppData\\Roaming\\nltk_data...\n",
      "[nltk_data]   Package stopwords is already up-to-date!\n"
     ]
    },
    {
     "data": {
      "text/plain": [
       "True"
      ]
     },
     "execution_count": 8,
     "metadata": {},
     "output_type": "execute_result"
    }
   ],
   "source": [
    "nltk.download('stopwords')"
   ]
  },
  {
   "cell_type": "markdown",
   "id": "cfcf8e21-b376-429d-8354-815913f6306d",
   "metadata": {},
   "source": [
    "Additionally, words like <code>quick</code> and <code>quickly</code> will be counted as the same word, as in many cases they evoke the same type of sentiment in text. This can be achieved through the <code>PorterStemmer</code> function.\n",
    "\n",
    "The code below will perform two functions. First, it will create a dictionary <code>wordCount</code> containing all unique words found in the corpus, as well as their counts. These counts will be useful when performing TF-IDF and other related functions. Next, a copy of our DataFrame will be made and a new row, called <code>Bag_of_Words</code> will be added. This new columns contains a list of all unique words found in the <code>Text</code> column"
   ]
  },
  {
   "cell_type": "code",
   "execution_count": 9,
   "id": "0971847e-18ec-4fff-8118-96711401255c",
   "metadata": {},
   "outputs": [],
   "source": [
    "wordCount = defaultdict(int)\n",
    "stemmer = PorterStemmer()\n",
    "stop_words = set(stopwords.words('english'))\n",
    "\n",
    "def process_text(text):\n",
    "    if pd.isna(text):\n",
    "        return np.nan\n",
    "    words = np.array([stemmer.stem(w) for w in text.split() if w not in stop_words])\n",
    "    for w in words:\n",
    "        wordCount[w] += 1\n",
    "    return words\n",
    "\n",
    "df2 = df.copy()\n",
    "df2['Bag_of_Words'] = df['Text'].apply(process_text)"
   ]
  },
  {
   "cell_type": "code",
   "execution_count": 10,
   "id": "1ea15107-f841-4af7-8412-66dab771bceb",
   "metadata": {},
   "outputs": [
    {
     "data": {
      "text/html": [
       "<div>\n",
       "<style scoped>\n",
       "    .dataframe tbody tr th:only-of-type {\n",
       "        vertical-align: middle;\n",
       "    }\n",
       "\n",
       "    .dataframe tbody tr th {\n",
       "        vertical-align: top;\n",
       "    }\n",
       "\n",
       "    .dataframe thead th {\n",
       "        text-align: right;\n",
       "    }\n",
       "</style>\n",
       "<table border=\"1\" class=\"dataframe\">\n",
       "  <thead>\n",
       "    <tr style=\"text-align: right;\">\n",
       "      <th></th>\n",
       "      <th>User_ID</th>\n",
       "      <th>Business_ID</th>\n",
       "      <th>Time</th>\n",
       "      <th>Text</th>\n",
       "      <th>Rating</th>\n",
       "      <th>Bag_of_Words</th>\n",
       "    </tr>\n",
       "  </thead>\n",
       "  <tbody>\n",
       "    <tr>\n",
       "      <th>0</th>\n",
       "      <td>108991152262655788985</td>\n",
       "      <td>0x80c2c632f933b073:0xc31785961fe826a6</td>\n",
       "      <td>1611028298617</td>\n",
       "      <td>NaN</td>\n",
       "      <td>5</td>\n",
       "      <td>NaN</td>\n",
       "    </tr>\n",
       "    <tr>\n",
       "      <th>1</th>\n",
       "      <td>103517930104985091440</td>\n",
       "      <td>0x80dd2b4c8555edb7:0xfc33d65c4bdbef42</td>\n",
       "      <td>1630608645242</td>\n",
       "      <td>love this place fried garlic chicken was very ...</td>\n",
       "      <td>5</td>\n",
       "      <td>[love, place, fri, garlic, chicken, crispi, sa...</td>\n",
       "    </tr>\n",
       "    <tr>\n",
       "      <th>2</th>\n",
       "      <td>100407264374478907511</td>\n",
       "      <td>0x80960c29f2e3bf29:0x4b291f0d275a5699</td>\n",
       "      <td>1533687919241</td>\n",
       "      <td>they make the burden of getting and renting sk...</td>\n",
       "      <td>5</td>\n",
       "      <td>[make, burden, get, rent, ski, toler, great, s...</td>\n",
       "    </tr>\n",
       "    <tr>\n",
       "      <th>3</th>\n",
       "      <td>111076645230062291047</td>\n",
       "      <td>0x80960c29f2e3bf29:0x4b291f0d275a5699</td>\n",
       "      <td>1552427615274</td>\n",
       "      <td>good service affordable</td>\n",
       "      <td>5</td>\n",
       "      <td>[good, servic, afford]</td>\n",
       "    </tr>\n",
       "    <tr>\n",
       "      <th>4</th>\n",
       "      <td>102161898384387210074</td>\n",
       "      <td>0x809adfe022389d79:0x388b21219097be6c</td>\n",
       "      <td>1581408882457</td>\n",
       "      <td>i have had two really great massages at this p...</td>\n",
       "      <td>5</td>\n",
       "      <td>[two, realli, great, massag, place, cici, real...</td>\n",
       "    </tr>\n",
       "  </tbody>\n",
       "</table>\n",
       "</div>"
      ],
      "text/plain": [
       "                 User_ID                            Business_ID  \\\n",
       "0  108991152262655788985  0x80c2c632f933b073:0xc31785961fe826a6   \n",
       "1  103517930104985091440  0x80dd2b4c8555edb7:0xfc33d65c4bdbef42   \n",
       "2  100407264374478907511  0x80960c29f2e3bf29:0x4b291f0d275a5699   \n",
       "3  111076645230062291047  0x80960c29f2e3bf29:0x4b291f0d275a5699   \n",
       "4  102161898384387210074  0x809adfe022389d79:0x388b21219097be6c   \n",
       "\n",
       "            Time                                               Text  Rating  \\\n",
       "0  1611028298617                                                NaN       5   \n",
       "1  1630608645242  love this place fried garlic chicken was very ...       5   \n",
       "2  1533687919241  they make the burden of getting and renting sk...       5   \n",
       "3  1552427615274                            good service affordable       5   \n",
       "4  1581408882457  i have had two really great massages at this p...       5   \n",
       "\n",
       "                                        Bag_of_Words  \n",
       "0                                                NaN  \n",
       "1  [love, place, fri, garlic, chicken, crispi, sa...  \n",
       "2  [make, burden, get, rent, ski, toler, great, s...  \n",
       "3                             [good, servic, afford]  \n",
       "4  [two, realli, great, massag, place, cici, real...  "
      ]
     },
     "execution_count": 10,
     "metadata": {},
     "output_type": "execute_result"
    }
   ],
   "source": [
    "df2.head()"
   ]
  },
  {
   "cell_type": "markdown",
   "id": "56af071b-b530-474b-a285-8fdbfb528a6a",
   "metadata": {},
   "source": [
    "In order to perform sentiment analysis, all reviews must contain text. Our DataFrame must be filtered again, this time by creating two new DataFrames: one where all reviews have <code>Text</code>, and another where all reviews have no text data."
   ]
  },
  {
   "cell_type": "code",
   "execution_count": 11,
   "id": "3c952b10-0cea-42ac-9d80-7a868aba66c7",
   "metadata": {},
   "outputs": [
    {
     "data": {
      "text/html": [
       "<div>\n",
       "<style scoped>\n",
       "    .dataframe tbody tr th:only-of-type {\n",
       "        vertical-align: middle;\n",
       "    }\n",
       "\n",
       "    .dataframe tbody tr th {\n",
       "        vertical-align: top;\n",
       "    }\n",
       "\n",
       "    .dataframe thead th {\n",
       "        text-align: right;\n",
       "    }\n",
       "</style>\n",
       "<table border=\"1\" class=\"dataframe\">\n",
       "  <thead>\n",
       "    <tr style=\"text-align: right;\">\n",
       "      <th></th>\n",
       "      <th>User_ID</th>\n",
       "      <th>Business_ID</th>\n",
       "      <th>Time</th>\n",
       "      <th>Text</th>\n",
       "      <th>Rating</th>\n",
       "      <th>Bag_of_Words</th>\n",
       "    </tr>\n",
       "  </thead>\n",
       "  <tbody>\n",
       "    <tr>\n",
       "      <th>1</th>\n",
       "      <td>103517930104985091440</td>\n",
       "      <td>0x80dd2b4c8555edb7:0xfc33d65c4bdbef42</td>\n",
       "      <td>1630608645242</td>\n",
       "      <td>love this place fried garlic chicken was very ...</td>\n",
       "      <td>5</td>\n",
       "      <td>[love, place, fri, garlic, chicken, crispi, sa...</td>\n",
       "    </tr>\n",
       "    <tr>\n",
       "      <th>2</th>\n",
       "      <td>100407264374478907511</td>\n",
       "      <td>0x80960c29f2e3bf29:0x4b291f0d275a5699</td>\n",
       "      <td>1533687919241</td>\n",
       "      <td>they make the burden of getting and renting sk...</td>\n",
       "      <td>5</td>\n",
       "      <td>[make, burden, get, rent, ski, toler, great, s...</td>\n",
       "    </tr>\n",
       "    <tr>\n",
       "      <th>3</th>\n",
       "      <td>111076645230062291047</td>\n",
       "      <td>0x80960c29f2e3bf29:0x4b291f0d275a5699</td>\n",
       "      <td>1552427615274</td>\n",
       "      <td>good service affordable</td>\n",
       "      <td>5</td>\n",
       "      <td>[good, servic, afford]</td>\n",
       "    </tr>\n",
       "    <tr>\n",
       "      <th>4</th>\n",
       "      <td>102161898384387210074</td>\n",
       "      <td>0x809adfe022389d79:0x388b21219097be6c</td>\n",
       "      <td>1581408882457</td>\n",
       "      <td>i have had two really great massages at this p...</td>\n",
       "      <td>5</td>\n",
       "      <td>[two, realli, great, massag, place, cici, real...</td>\n",
       "    </tr>\n",
       "    <tr>\n",
       "      <th>6</th>\n",
       "      <td>103081403280361428761</td>\n",
       "      <td>0x809b0538c45f8f6d:0x5b41786472a8d07a</td>\n",
       "      <td>1616519888170</td>\n",
       "      <td>best mechanic i have found extremely knowledge...</td>\n",
       "      <td>5</td>\n",
       "      <td>[best, mechan, found, extrem, knowledg, honest...</td>\n",
       "    </tr>\n",
       "  </tbody>\n",
       "</table>\n",
       "</div>"
      ],
      "text/plain": [
       "                 User_ID                            Business_ID  \\\n",
       "1  103517930104985091440  0x80dd2b4c8555edb7:0xfc33d65c4bdbef42   \n",
       "2  100407264374478907511  0x80960c29f2e3bf29:0x4b291f0d275a5699   \n",
       "3  111076645230062291047  0x80960c29f2e3bf29:0x4b291f0d275a5699   \n",
       "4  102161898384387210074  0x809adfe022389d79:0x388b21219097be6c   \n",
       "6  103081403280361428761  0x809b0538c45f8f6d:0x5b41786472a8d07a   \n",
       "\n",
       "            Time                                               Text  Rating  \\\n",
       "1  1630608645242  love this place fried garlic chicken was very ...       5   \n",
       "2  1533687919241  they make the burden of getting and renting sk...       5   \n",
       "3  1552427615274                            good service affordable       5   \n",
       "4  1581408882457  i have had two really great massages at this p...       5   \n",
       "6  1616519888170  best mechanic i have found extremely knowledge...       5   \n",
       "\n",
       "                                        Bag_of_Words  \n",
       "1  [love, place, fri, garlic, chicken, crispi, sa...  \n",
       "2  [make, burden, get, rent, ski, toler, great, s...  \n",
       "3                             [good, servic, afford]  \n",
       "4  [two, realli, great, massag, place, cici, real...  \n",
       "6  [best, mechan, found, extrem, knowledg, honest...  "
      ]
     },
     "execution_count": 11,
     "metadata": {},
     "output_type": "execute_result"
    }
   ],
   "source": [
    "df_no_text = df2[df2[\"Text\"].isna()]\n",
    "df_with_text = df2[~df2[\"Text\"].isna()]\n",
    "df_with_text.head()"
   ]
  },
  {
   "cell_type": "code",
   "execution_count": 12,
   "id": "73e72a2c-1be6-46d2-b1bc-e71f22097de9",
   "metadata": {},
   "outputs": [
    {
     "name": "stdout",
     "output_type": "stream",
     "text": [
      "(517317, 6)\n",
      "(594190, 6)\n"
     ]
    }
   ],
   "source": [
    "print(df_no_text.shape)\n",
    "print(df_with_text.shape)"
   ]
  },
  {
   "cell_type": "markdown",
   "id": "e2c20905-442e-4940-b752-2ffdd0033466",
   "metadata": {},
   "source": [
    "Printing she shape of the DataFrames reveals a few more details about or dataset. First, there are more reviews written with text descriptions than those without. The ability to describe why a rating was given is an important tool to use to influence other people to think the same way, or to explain to a business what events led to such a review. Once again, we will plot barplots to see the distribution of ratings grouped by the addition of review text."
   ]
  },
  {
   "cell_type": "code",
   "execution_count": 13,
   "id": "1b86da1f-0153-49b0-be52-a1a0dd894879",
   "metadata": {},
   "outputs": [
    {
     "data": {
      "text/html": [
       "<div>\n",
       "<style scoped>\n",
       "    .dataframe tbody tr th:only-of-type {\n",
       "        vertical-align: middle;\n",
       "    }\n",
       "\n",
       "    .dataframe tbody tr th {\n",
       "        vertical-align: top;\n",
       "    }\n",
       "\n",
       "    .dataframe thead th {\n",
       "        text-align: right;\n",
       "    }\n",
       "</style>\n",
       "<table border=\"1\" class=\"dataframe\">\n",
       "  <thead>\n",
       "    <tr style=\"text-align: right;\">\n",
       "      <th></th>\n",
       "      <th>Rating</th>\n",
       "      <th>count</th>\n",
       "      <th>props</th>\n",
       "    </tr>\n",
       "  </thead>\n",
       "  <tbody>\n",
       "    <tr>\n",
       "      <th>0</th>\n",
       "      <td>5</td>\n",
       "      <td>363822</td>\n",
       "      <td>0.61</td>\n",
       "    </tr>\n",
       "    <tr>\n",
       "      <th>1</th>\n",
       "      <td>4</td>\n",
       "      <td>122441</td>\n",
       "      <td>0.21</td>\n",
       "    </tr>\n",
       "    <tr>\n",
       "      <th>2</th>\n",
       "      <td>3</td>\n",
       "      <td>52754</td>\n",
       "      <td>0.09</td>\n",
       "    </tr>\n",
       "    <tr>\n",
       "      <th>3</th>\n",
       "      <td>1</td>\n",
       "      <td>33219</td>\n",
       "      <td>0.06</td>\n",
       "    </tr>\n",
       "    <tr>\n",
       "      <th>4</th>\n",
       "      <td>2</td>\n",
       "      <td>21954</td>\n",
       "      <td>0.04</td>\n",
       "    </tr>\n",
       "  </tbody>\n",
       "</table>\n",
       "</div>"
      ],
      "text/plain": [
       "   Rating   count  props\n",
       "0       5  363822   0.61\n",
       "1       4  122441   0.21\n",
       "2       3   52754   0.09\n",
       "3       1   33219   0.06\n",
       "4       2   21954   0.04"
      ]
     },
     "execution_count": 13,
     "metadata": {},
     "output_type": "execute_result"
    }
   ],
   "source": [
    "txt_counts = df_with_text[\"Rating\"].value_counts().reset_index()\n",
    "txt_counts['props'] = np.round((txt_counts['count'] / txt_counts['count'].sum()),2)\n",
    "txt_counts"
   ]
  },
  {
   "cell_type": "code",
   "execution_count": 14,
   "id": "7132278f-39f5-442a-a04f-363149ee3f00",
   "metadata": {},
   "outputs": [
    {
     "data": {
      "image/png": "[encoded data removed]",
      "text/plain": [
       "<Figure size 640x480 with 1 Axes>"
      ]
     },
     "metadata": {},
     "output_type": "display_data"
    }
   ],
   "source": [
    "clrs = ['red', 'red', 'grey', 'grey', 'grey']\n",
    "plt1 = sns.barplot(data= txt_counts, \n",
    "                   x=\"Rating\", \n",
    "                   y= \"count\", \n",
    "                   hue=\"Rating\", \n",
    "                   palette = clrs, \n",
    "                   legend= False).set(title = \"Rating Counts, Full Data\")"
   ]
  },
  {
   "cell_type": "code",
   "execution_count": 15,
   "id": "306d15f1-0a8e-4ffd-b174-44e57c42c304",
   "metadata": {},
   "outputs": [
    {
     "data": {
      "text/html": [
       "<div>\n",
       "<style scoped>\n",
       "    .dataframe tbody tr th:only-of-type {\n",
       "        vertical-align: middle;\n",
       "    }\n",
       "\n",
       "    .dataframe tbody tr th {\n",
       "        vertical-align: top;\n",
       "    }\n",
       "\n",
       "    .dataframe thead th {\n",
       "        text-align: right;\n",
       "    }\n",
       "</style>\n",
       "<table border=\"1\" class=\"dataframe\">\n",
       "  <thead>\n",
       "    <tr style=\"text-align: right;\">\n",
       "      <th></th>\n",
       "      <th>Rating</th>\n",
       "      <th>count</th>\n",
       "      <th>props</th>\n",
       "    </tr>\n",
       "  </thead>\n",
       "  <tbody>\n",
       "    <tr>\n",
       "      <th>0</th>\n",
       "      <td>5</td>\n",
       "      <td>299466</td>\n",
       "      <td>0.58</td>\n",
       "    </tr>\n",
       "    <tr>\n",
       "      <th>1</th>\n",
       "      <td>4</td>\n",
       "      <td>133152</td>\n",
       "      <td>0.26</td>\n",
       "    </tr>\n",
       "    <tr>\n",
       "      <th>2</th>\n",
       "      <td>3</td>\n",
       "      <td>58320</td>\n",
       "      <td>0.11</td>\n",
       "    </tr>\n",
       "    <tr>\n",
       "      <th>3</th>\n",
       "      <td>2</td>\n",
       "      <td>13498</td>\n",
       "      <td>0.03</td>\n",
       "    </tr>\n",
       "    <tr>\n",
       "      <th>4</th>\n",
       "      <td>1</td>\n",
       "      <td>12881</td>\n",
       "      <td>0.02</td>\n",
       "    </tr>\n",
       "  </tbody>\n",
       "</table>\n",
       "</div>"
      ],
      "text/plain": [
       "   Rating   count  props\n",
       "0       5  299466   0.58\n",
       "1       4  133152   0.26\n",
       "2       3   58320   0.11\n",
       "3       2   13498   0.03\n",
       "4       1   12881   0.02"
      ]
     },
     "execution_count": 15,
     "metadata": {},
     "output_type": "execute_result"
    }
   ],
   "source": [
    "no_txt_counts = df_no_text[\"Rating\"].value_counts().reset_index()\n",
    "no_txt_counts['props'] = np.round((no_txt_counts['count'] / no_txt_counts['count'].sum()),2)\n",
    "no_txt_counts"
   ]
  },
  {
   "cell_type": "code",
   "execution_count": 16,
   "id": "2794be0f-da99-4c92-ba8d-d856cace9165",
   "metadata": {},
   "outputs": [
    {
     "data": {
      "image/png": "[encoded data removed]",
      "text/plain": [
       "<Figure size 640x480 with 1 Axes>"
      ]
     },
     "metadata": {},
     "output_type": "display_data"
    }
   ],
   "source": [
    "clrs = ['red', 'red', 'grey', 'grey', 'grey']\n",
    "plt2 = sns.barplot(data= no_txt_counts, \n",
    "                   x=\"Rating\", \n",
    "                   y= \"count\", \n",
    "                   hue=\"Rating\", \n",
    "                   palette = clrs, \n",
    "                   legend= False).set(title = \"Rating Counts, Full Data\")"
   ]
  },
  {
   "cell_type": "markdown",
   "id": "c37fa366-a8d2-4fd2-8c63-d002cbafdb85",
   "metadata": {},
   "source": [
    "Although the distributions are roughly the same, there is a significant increase in negative ratings when review text is included. 1 star and 2 star ratings jumped from only 5% of the distribution in non-text reviews to 10% in reviews with text. This is indicative of many users expressing their discontent of a business in both rating and in text.\n",
    "\n",
    "Finally, our EDA will determine the distribution of ratings based on review length. To reduce the amount of outliers, The graph will only account for reviews with a maximum of 600 characters. For increased readability, word counts are based on multiples of 25. The histplot can be seen below."
   ]
  },
  {
   "cell_type": "code",
   "execution_count": 17,
   "id": "5c5bffe9-ce68-4532-859d-3d7d6db5d747",
   "metadata": {},
   "outputs": [
    {
     "data": {
      "image/png": "[encoded data removed]",
      "text/plain": [
       "<Figure size 640x480 with 1 Axes>"
      ]
     },
     "metadata": {},
     "output_type": "display_data"
    }
   ],
   "source": [
    "df3 = df_with_text.copy()[[\"Text\", \"Rating\"]]\n",
    "df3[\"Text_Len\"] = df3['Text'].apply(len)\n",
    "df3 = df3[df3[\"Text_Len\"] <= 600]\n",
    "\n",
    "plt3 = sns.histplot(data= df3, \n",
    "                    x= 'Text_Len', \n",
    "                    hue=\"Rating\", \n",
    "                    stat= 'density', \n",
    "                    common_norm= False, \n",
    "                    bins=24).set(title= \"Density of Text Length Versus Rating\")"
   ]
  },
  {
   "cell_type": "markdown",
   "id": "4a19a16a-ce24-442e-8438-eadf4eb43249",
   "metadata": {},
   "source": [
    "As shown in the histogram, lower ratings correspond to a higher proportion of long text reviews. Users are more likely to express their discontent by including reasoning behind their low rating rather than letting others assume why they did. Users who rated a business positively did so in less words on average. This is indicative of <code>len(Text)</code>'s positive ability to correctly classify a rating based on the length of a review, should it be used in a regression model."
   ]
  },
  {
   "cell_type": "markdown",
   "id": "66452070-29ed-4718-9448-8e731c24b848",
   "metadata": {},
   "source": [
    "## Step 2: Identifying a prediction task"
   ]
  },
  {
   "cell_type": "markdown",
   "id": "a9e92511-c0b8-4a2f-b8af-edbc7851058b",
   "metadata": {},
   "source": [
    "The predictive task our assignment will focus on is to predict the **Star Rating** of user generated reviews using multiple regressor models. A simple model such as **Sentiment analysis** can capture features that are only visible in certain reviews. For example: words such as \"disgust\" are more prevalent in negative ratings, while \"delicious\" are found in positive reviews. One limitation to this model is that words like \"great\" evoke positive sentiment, but it is just as common to see the phrase \"not great\" which has an equally negative sentiment which is not featured in this model.\n",
    "\n",
    "A potential fix to this drawback is to use an **N-gram** model. N-gram models improve on the base sentiment analysis model by including phrases of words that are found together. Bigrams and Trigrams are two N-grams that significantly improve predictive tasks, but come at significantly heavy computation and memory costs.\n",
    "\n",
    "Finally, our predictive models can be improved by implementing sentiment analysis with **TF-IDF**. Words that are used more frequently in text relative to other documents can be classified as more or less important based on how rare the word is. For example, if the word 'great' appears multiple times in a document but also appears frequently in other documents, it is indicative of a word that has large variance in predicting a rating. A word like 'extraordinary' is similar to 'great' in connotation but is used less frequently, signifying that the word 'extraordinary' is a better predictor of positivity. The drawbacks of sentiment analysis and N-gram models both apply to TF-IDF but in a smaller magnitude.\n",
    "\n",
    "Our predictive model will perform ridge regression to create a list of continuous values ranging from 1-5. These are our <code>y_pred</code> values which will be **evaluated** to our true values using **Mean-Squared Error**. This MSE will be compared to other prediction tasks implemented in class, such as predicting star ratings from 1-5 based on user, book pairs from our Assignment 1. Since there are only 5 ratings to predict from, our model will form a **baseline** of MSE = 1. The model should generate an MSE of less than 1 in order to perform well.\n",
    "\n",
    "In order to **validate** our predictive task, our model will be fit onto the <code>txt_counts</code> DataFrame, process a second DataFrame using another sample from <code>review-California_10.json.gz</code>, predict ratings on the second dataset, and compare the predictions with the actual ratings."
   ]
  },
  {
   "cell_type": "markdown",
   "id": "3fdce6e0-1f24-4846-a4bd-56f0593da7f2",
   "metadata": {},
   "source": [
    "## Step 3: Describing the Model"
   ]
  },
  {
   "cell_type": "markdown",
   "id": "f95ebe9d-d425-45d5-868f-10cbe0bb0ee3",
   "metadata": {},
   "source": [
    "Our model will use **Sentiment Analysis** to capture our features to predict star ratings from Google Maps reviews. Our reasoning behind choosing the simplest model is threefold:\n",
    "1. Computational capacity. Due to limitations in computational power, working with large datasets requires restrictions in both dataset size and algorithm complexity. While CPU power may increase the speed at which each computation is performed, System random access memory is the biggest hurdle. In order to efficiently use RAM, a small enough dataset must be used so that any transformations and models run on that data have enough memeory to function properly. However, using a smaller proportion of the dataset reduces accuracy when testing new data. Likewise, using a large dataset but a computationally light algorithmic model can return poor results as well. A compromise must be found in order to find the most effective method for memory usage.\n",
    "2. Occam's Razor: Usually the simplest models are the ones that can be easily transferred to other datasets with positive results. Running computationally heavy regression models on one specific subset(such as California) may not perform well in other locations (land-locked states such as Montana).\n",
    "3. Readability: Sentiment analysis using a bag-of-words approach is the simplest of the three models described above that the general population can understand. The reader will resonate more with the results of this assignment if their experiences with reviews are similar. Simple models are also easier to reproduce results for, which is important in any scientific evaluation of a model that can affect user experiences.\n",
    "\n",
    "Our model is described in more details below. First, a list of unique words and their counts is generated and sorted in reverse order. The variable <code>words</code> contains a list of the 2000 most popular words."
   ]
  },
  {
   "cell_type": "code",
   "execution_count": 18,
   "id": "2c45d2f0-5082-432e-b790-b5cbe3e6e7d2",
   "metadata": {},
   "outputs": [],
   "source": [
    "counts = [(wordCount[w], w) for w in wordCount]\n",
    "counts.sort()\n",
    "counts.reverse()\n",
    "words = np.array([x[1] for x in counts[:2000]])"
   ]
  },
  {
   "cell_type": "code",
   "execution_count": 19,
   "id": "78721f25-f94e-4790-965a-d0a1356b20af",
   "metadata": {},
   "outputs": [
    {
     "data": {
      "text/plain": [
       "103108"
      ]
     },
     "execution_count": 19,
     "metadata": {},
     "output_type": "execute_result"
    }
   ],
   "source": [
    "len(wordCount)"
   ]
  },
  {
   "cell_type": "markdown",
   "id": "6139fe37-3daf-4c49-9453-49fe488fb966",
   "metadata": {},
   "source": [
    "Why were 100,000 words omitted from our valid words? The reason is that many of the words past word number 37,000 appear only once, providing very little predictive power among the remainder of the corpus. Words past word number 17,000 contain less than 5 ocurrences, many of which are mispellings. Attempting to fix all word mispellings is computationally inefficient, and are removed instead. In order to improve anonymity among users, a review will only be used if the words are used at least 300 times among the entire corpus. As such, 2000 words is an ideal cutoff to improve computational efficiency and to reduce redundancy and clutter in our algorithm.\n",
    "\n",
    "At last, the DataFrame can be transformed into our feature vectors. Using our <code>feature</code> function, we can create a vector of words and their occurrences for each bag-of-words. <code>y</code> is our dependent variable containing the Ratings of each user."
   ]
  },
  {
   "cell_type": "code",
   "execution_count": 20,
   "id": "2f7c7df8-b58e-4a06-bc24-10f7c8ad9e02",
   "metadata": {},
   "outputs": [],
   "source": [
    "wordId = dict(zip(words, range(len(words))))\n",
    "wordSet = set(words)\n",
    "\n",
    "def feature(datum):\n",
    "    feat = [0]*len(words)\n",
    "    for w in datum:\n",
    "        if w in words:\n",
    "            feat[wordId[w]] += 1\n",
    "    feat.append(1) # offset\n",
    "    return np.array(feat)\n",
    "\n",
    "X = np.array([feature(d) for d in df_with_text[\"Bag_of_Words\"]])\n",
    "y = np.array([d for d in df_with_text[\"Rating\"]])"
   ]
  },
  {
   "cell_type": "markdown",
   "id": "7a93d646-92d5-442d-8247-26e40bcd02ae",
   "metadata": {},
   "source": [
    "Our model will use ridge regression to predict user ratings using only our bag-of-words feature vector. Below we create our model, fit the training data, and predict the values of our training data."
   ]
  },
  {
   "cell_type": "code",
   "execution_count": 21,
   "id": "5671e1fd-9dfa-40eb-aa41-ead11efaa522",
   "metadata": {},
   "outputs": [],
   "source": [
    "# Regularized regression\n",
    "clf = linear_model.Ridge(1.0, fit_intercept=False) # MSE + 1.0 l2\n",
    "clf.fit(X, y)\n",
    "theta = clf.coef_\n",
    "predictions = clf.predict(X)"
   ]
  },
  {
   "cell_type": "markdown",
   "id": "b5ba8e22-a54a-455c-9ee4-26bd4821ac60",
   "metadata": {},
   "source": [
    "Some of our predictions are less than 1 or greater than 5. As a sanity check, these numbers will be rounded to 1 or 5, respectively."
   ]
  },
  {
   "cell_type": "code",
   "execution_count": 22,
   "id": "c87edbcd-49d3-416e-9d03-210a3db44abf",
   "metadata": {},
   "outputs": [],
   "source": [
    "ypred = [5 if p > 5 else p for p in predictions]\n",
    "ypred = [1 if p < 1 else p for p in ypred]"
   ]
  },
  {
   "cell_type": "markdown",
   "id": "4c1dcaa4-d559-47da-8cb4-6210bd50634b",
   "metadata": {},
   "source": [
    "Now the MSE function can be run to determine our mean-squared error on the training dataset."
   ]
  },
  {
   "cell_type": "code",
   "execution_count": 23,
   "id": "f9646837-a10b-4dc8-9d13-9ea7baad7ce2",
   "metadata": {},
   "outputs": [],
   "source": [
    "def MSE(predictions, labels):\n",
    "    differences = [(x-y)**2 for x,y in zip(predictions,labels)]\n",
    "    return sum(differences) / len(differences)"
   ]
  },
  {
   "cell_type": "code",
   "execution_count": 24,
   "id": "23f63bbe-9387-412f-85c7-f1a245428eac",
   "metadata": {},
   "outputs": [
    {
     "data": {
      "text/plain": [
       "0.7385240252204259"
      ]
     },
     "execution_count": 24,
     "metadata": {},
     "output_type": "execute_result"
    }
   ],
   "source": [
    "MSE(ypred, y)"
   ]
  },
  {
   "cell_type": "markdown",
   "id": "3ad039c7-8c8f-4c75-8954-341c1cc06403",
   "metadata": {},
   "source": [
    "Finally, our second dataset is created, run through our model, has ratings predicted, and its MSE generated."
   ]
  },
  {
   "cell_type": "code",
   "execution_count": 26,
   "id": "62ca8881-570b-4893-92a0-34afde4c0c5d",
   "metadata": {},
   "outputs": [],
   "source": [
    "df_test = pd.read_csv('review-California-test.csv', encoding= 'utf-8')"
   ]
  },
  {
   "cell_type": "code",
   "execution_count": 27,
   "id": "9194bb64-70f1-4dfe-923d-73b597d22414",
   "metadata": {},
   "outputs": [],
   "source": [
    "wordCount = defaultdict(int)\n",
    "stemmer = PorterStemmer()\n",
    "stop_words = set(stopwords.words('english'))\n",
    "\n",
    "df2_test = df_test.copy()\n",
    "df2_test['Bag_of_Words'] = df_test['Text'].apply(process_text)"
   ]
  },
  {
   "cell_type": "code",
   "execution_count": 28,
   "id": "c1f31889-2d6a-41d8-a596-f5c8e8ff4794",
   "metadata": {},
   "outputs": [],
   "source": [
    "test_no_text = df2_test[df2_test[\"Text\"].isna()]\n",
    "test_with_text = df2_test[~df2_test[\"Text\"].isna()]"
   ]
  },
  {
   "cell_type": "code",
   "execution_count": 29,
   "id": "d7ca82d3",
   "metadata": {},
   "outputs": [],
   "source": [
    "X_test = np.array([feature(d) for d in test_with_text[\"Bag_of_Words\"]])\n",
    "y_yest = np.array([d for d in test_with_text[\"Rating\"]])"
   ]
  },
  {
   "cell_type": "code",
   "execution_count": 30,
   "id": "69bc2114-c29b-456e-805f-0aaaaeb017be",
   "metadata": {},
   "outputs": [],
   "source": [
    "predictions = clf.predict(X_test)"
   ]
  },
  {
   "cell_type": "code",
   "execution_count": 31,
   "id": "3d50c4f4",
   "metadata": {},
   "outputs": [],
   "source": [
    "ypred_test = [5 if p > 5 else p for p in predictions]\n",
    "ypred_test = [1 if p < 1 else p for p in ypred_test]"
   ]
  },
  {
   "cell_type": "code",
   "execution_count": 32,
   "id": "b0dae509",
   "metadata": {},
   "outputs": [],
   "source": [
    "def MSE(predictions, labels):\n",
    "    differences = [(x-y)**2 for x,y in zip(predictions,labels)]\n",
    "    return sum(differences) / len(differences)"
   ]
  },
  {
   "cell_type": "code",
   "execution_count": 33,
   "id": "df75ebcc",
   "metadata": {},
   "outputs": [
    {
     "data": {
      "text/plain": [
       "0.7448326180898945"
      ]
     },
     "execution_count": 33,
     "metadata": {},
     "output_type": "execute_result"
    }
   ],
   "source": [
    "MSE(ypred_test, y_yest)"
   ]
  },
  {
   "cell_type": "markdown",
   "id": "9cfa6bd1-e89f-4bd0-8ec6-7a791aa4b499",
   "metadata": {},
   "source": [
    "## Step 5: Results"
   ]
  },
  {
   "cell_type": "markdown",
   "id": "98c3a054-0794-461d-a596-399de6b90086",
   "metadata": {},
   "source": [
    "Our ridge regression model used sentiment analysis to predict star ratings in user-generated text reviews of businesses in Google Maps. Using over 1.1 million reviews, the regressor was fit onto a feature vector created by using a bag-of-words approach on both training and test sets. These bag-of-words models were generated by accessing each unique base word available in our corpus, as well as certain Unicode symbols and emojis. To validate our model, a mean-squared error function was used to determine our predictive model's accuracy. When fitting and predicting on our **training data**, our model predicted ratings with an MSE of <code>0.738</code>. When predicting our **test data** using our fitted training data, our model was able to predict ratings with an MSE of <code>0.744</code>. As a sanity check, a baseline of an MSE of 1.3 (generated from the MSE from Assignment 1) and an improved baseline of 1 are used to compare with our results. As such, both our training and testing MSE are far below our baselines, revealing an improvement to our model's ability to generate star ratings from reviews. Since our MSE is lower for test data compared to our training data, this is indicative that our training data is not overfitting, and accurate models can be made on multiple test sets. This also strengthens the claim that certain words generate socially accepted sentiment and emotions. The quality of a user-generated text review is a useful predictor for star ratings, owing much to the abilities of sentiment analysis."
   ]
  },
  {
   "cell_type": "markdown",
   "id": "a6ba9171-60d2-46e2-a9c6-3ed1efd500fa",
   "metadata": {},
   "source": [
    "Although our predictor could have been improved either by increasing the number of observations in <code>df_with_text</code>, or by increasing the number of <code>words</code> used to build our feature vectors, there were significant limitations due to RAM. Increasing these values could result in memory limitation errors. One fix to this problem was to use <code>np.array</code> instead of <code>list</code> or to convert to an array after all list functions were performed. Another solution would be to generate our models using more efficient programs, such as SQL, as these programs are declarative while python is imperative. Finally, another potential fix to this solution would be to increase our system memory from 32Gb to 64 or 128Gb."
   ]
  }
 ],
 "metadata": {
  "kernelspec": {
   "display_name": "Python 3 (ipykernel)",
   "language": "python",
   "name": "python3"
  },
  "language_info": {
   "codemirror_mode": {
    "name": "ipython",
    "version": 3
   },
   "file_extension": ".py",
   "mimetype": "text/x-python",
   "name": "python",
   "nbconvert_exporter": "python",
   "pygments_lexer": "ipython3",
   "version": "3.12.2"
  }
 },
 "nbformat": 4,
 "nbformat_minor": 5
}
